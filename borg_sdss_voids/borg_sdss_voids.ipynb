{
 "cells": [
  {
   "cell_type": "markdown",
   "metadata": {},
   "source": [
    "# BORG SDSS data products\n",
    "## borg_sdss_voids package\n",
    "* Authors: Florent Leclercq, Jens Jasche, P.M. Sutter, Nico Hamaus, Benjamin Wandelt\n",
    "* Last update: 09/10/2018"
   ]
  },
  {
   "cell_type": "markdown",
   "metadata": {},
   "source": [
    "This package contains the dark matter void catalogs obtained by [Leclercq et al. (2015a)](https://arxiv.org/abs/1410.0355).\n",
    "\n",
    "Data are provided in terms of a standard 3D numpy array and can easily be accessed and processed using python.\n",
    "\n",
    "For further details on the data and employed methods please consult [Leclercq et al. (2015a)](https://arxiv.org/abs/1410.0355) and the [VIDE paper](https://arxiv.org/abs/1406.1191) (references below)."
   ]
  },
  {
   "cell_type": "markdown",
   "metadata": {},
   "source": [
    "## File content"
   ]
  },
  {
   "cell_type": "markdown",
   "metadata": {},
   "source": [
    "This package consists of two files:\n",
    "* **borg_sdss_voids.ipynb**: The file you are currently reading.\n",
    "* **borg_sdss_voids.tar.gz**: Archive available on [GitHub LFS](https://github.com/florent-leclercq/borg_sdss_data_release/blob/master/borg_sdss_voids/borg_sdss_voids.tar.gz) and on [the author's website](http://www.florent-leclercq.eu/data/borg_sdss_voids.tar.gz).\n",
    "\n",
    "The archive borg_sdss_voids.tar.gz can be extracted using\n",
    "\n",
    "```bash\n",
    "tar -xzf borg_sdss_voids.tar.gz\n",
    "```\n",
    "\n",
    "The archive contains 72 files:\n",
    "\n",
    "**1dprofile_*.dat.npz**:\n",
    "\tThese files contain the 1d density profiles of dark matter voids in the SDSS, which permit to reproduce figure 6 in [Leclercq et al. (2015a)](https://arxiv.org/abs/1410.0355).\n",
    "\n",
    "**masked3D_untrimmed_centers_central_constrained_*_ss1.0_z0.00_d00.out**:\n",
    "\tThese files contain information on void centers for the 11 constrained realizations of dark matter voids in the SDSS. Please refer to the header of these files for documentation.\n",
    "\n",
    "**masked3D_untrimmed_centers_central_unconstrained_*_ss1.0_z0.00_d00.out**:\n",
    "\tThese files contain information on void centers for 11 unconstrained realizations with corresponding setup. Please refer to the header of these files for documentation.\n",
    "\n",
    "**masked3D_untrimmed_shapes_central_constrained_*_ss1.0_z0.00_d00.out**:\n",
    "\tThese files contain information on void shapes for the 11 constrained realizations of dark matter voids in the SDSS. Please refer to the header of these files for documentation.\n",
    "\n",
    "**masked3D_untrimmed_shapes_central_unconstrained_*_ss1.0_z0.00_d00.out**:\n",
    "\tThese files contain information on void shapes for 11 unconstrained realizations with corresponding setup. Please refer to the header of these files for documentation.\n",
    "\n",
    "**masked3D_untrimmed_sky_positions_central_constrained_*_ss1.0_z0.00_d00.out**:\n",
    "\tThese files contain information on void sky positions for the 11 constrained realizations of dark matter voids in the SDSS. Please refer to the header of these files for documentation.\n",
    "\n",
    "**masked3D_untrimmed_sky_positions_central_unconstrained_*_ss1.0_z0.00_d00.out**:\n",
    "\tThese files contain information on void sky positions for 11 unconstrained realizations with corresponding setup. Please refer to the header of these files for documentation."
   ]
  },
  {
   "cell_type": "markdown",
   "metadata": {},
   "source": [
    "## Credit"
   ]
  },
  {
   "cell_type": "markdown",
   "metadata": {},
   "source": [
    "If you are using this material in your publications please cite the following publications:\n",
    "\n",
    "> Leclercq, F. and Jasche, J. and Sutter, P.M. and Hamaus, N. and Wandelt, B. (2015a)<br />\n",
    "> *Dark matter voids in the SDSS galaxy survey*<br />\n",
    "> [Journal of Cosmology and Astroparticle Physics 03, 047 (2015)](http://dx.doi.org/10.1088/1475-7516/2015/03/047)<br />\n",
    "> [arXiv:1410.0355 [astro-ph.CO]](https://arxiv.org/abs/1410.0355)\n",
    "\n",
    "> Sutter, P.M. and Lavaux, G. and Wandelt, B.D. and Weinberg, D.H. (2012)<br />\n",
    "> *A public void catalog from the SDSS DR7 Galaxy Redshift Surveys based on the watershed transform*<br />\n",
    "> [The Astrophysical Journal 761, 44 (2012)](http://dx.doi.org/10.1088/0004-637X/761/1/44)<br />\n",
    "> [arXiv:1207.2524 [astro-ph.CO]](https://arxiv.org/abs/1207.2524)\n",
    "\n",
    "As cosmic web analysis is a derived product of the BORG SDSS analysis, we also kindly\n",
    "ask you to cite the following publications:\n",
    "\n",
    "> Jasche, J. and Wandelt, B. D. (2013)<br />\n",
    "> *Bayesian physical reconstruction of initial conditions from large-scale structure surveys*<br />\n",
    "> [Monthly Notices of the Royal Astronomical Society 432, 894-913 (2013)](http://dx.doi.org/10.1093/mnras/stt449)<br />\n",
    "> [arXiv:1203.3639 [astro-ph.CO]](https://arxiv.org/abs/1203.3639)\n",
    "\n",
    "and:\n",
    "\n",
    "> Jasche, J. and Leclercq, F. and Wandelt, B. D. (2015)<br />\n",
    "> *Past and present cosmic structure in the SDSS DR7 main sample*<br />\n",
    "> [Journal of Cosmology and Astroparticle Physics 01, 036 (2015)](http://dx.doi.org/10.1088/1475-7516/2013/11/048)<br />\n",
    "> [arXiv:1409.6308 [astro-ph.CO]](https://arxiv.org/abs/1409.6308)"
   ]
  }
 ],
 "metadata": {
  "kernelspec": {
   "display_name": "Python 3",
   "language": "python",
   "name": "python3"
  },
  "language_info": {
   "codemirror_mode": {
    "name": "ipython",
    "version": 3
   },
   "file_extension": ".py",
   "mimetype": "text/x-python",
   "name": "python",
   "nbconvert_exporter": "python",
   "pygments_lexer": "ipython3",
   "version": "3.6.4"
  }
 },
 "nbformat": 4,
 "nbformat_minor": 2
}
